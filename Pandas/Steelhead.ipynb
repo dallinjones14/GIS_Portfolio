{
 "cells": [
  {
   "cell_type": "markdown",
   "id": "4c374303",
   "metadata": {},
   "source": [
    "Pandas Visualization\n",
    "Dallin Jones\n",
    "\n",
    "This visualization is comparing current year steelhead run totals at the Bonneville Dam to previous years.\n",
    "Data found a tthe Fish Passage Center at https://www.fpc.org/adults/R_dailyadultcountsgraph_resultsV6.php"
   ]
  },
  {
   "cell_type": "markdown",
   "id": "962cd905",
   "metadata": {},
   "source": [
    "Import required libraries"
   ]
  },
  {
   "cell_type": "code",
   "execution_count": 2,
   "id": "c32b649a",
   "metadata": {},
   "outputs": [],
   "source": [
    "import pandas as pd\n",
    "import matplotlib.pyplot as plt\n"
   ]
  },
  {
   "cell_type": "markdown",
   "id": "352e7a46",
   "metadata": {},
   "source": [
    "Create a dataframe and bring in the steelhead csv"
   ]
  },
  {
   "cell_type": "code",
   "execution_count": 3,
   "id": "5de75fb1",
   "metadata": {
    "scrolled": true
   },
   "outputs": [
    {
     "data": {
      "text/html": [
       "<div>\n",
       "<style scoped>\n",
       "    .dataframe tbody tr th:only-of-type {\n",
       "        vertical-align: middle;\n",
       "    }\n",
       "\n",
       "    .dataframe tbody tr th {\n",
       "        vertical-align: top;\n",
       "    }\n",
       "\n",
       "    .dataframe thead th {\n",
       "        text-align: right;\n",
       "    }\n",
       "</style>\n",
       "<table border=\"1\" class=\"dataframe\">\n",
       "  <thead>\n",
       "    <tr style=\"text-align: right;\">\n",
       "      <th></th>\n",
       "      <th>Dates</th>\n",
       "      <th>Dam</th>\n",
       "      <th>Daily_Count_Current_Year</th>\n",
       "      <th>Daily_Count_Last_Year</th>\n",
       "      <th>Ten_Year_Average_Daily_Count</th>\n",
       "    </tr>\n",
       "  </thead>\n",
       "  <tbody>\n",
       "    <tr>\n",
       "      <th>0</th>\n",
       "      <td>1-Jan</td>\n",
       "      <td>BON</td>\n",
       "      <td>3.0</td>\n",
       "      <td>10</td>\n",
       "      <td>10</td>\n",
       "    </tr>\n",
       "    <tr>\n",
       "      <th>1</th>\n",
       "      <td>2-Jan</td>\n",
       "      <td>BON</td>\n",
       "      <td>7.0</td>\n",
       "      <td>10</td>\n",
       "      <td>10</td>\n",
       "    </tr>\n",
       "    <tr>\n",
       "      <th>2</th>\n",
       "      <td>3-Jan</td>\n",
       "      <td>BON</td>\n",
       "      <td>9.0</td>\n",
       "      <td>14</td>\n",
       "      <td>8</td>\n",
       "    </tr>\n",
       "    <tr>\n",
       "      <th>3</th>\n",
       "      <td>4-Jan</td>\n",
       "      <td>BON</td>\n",
       "      <td>11.0</td>\n",
       "      <td>1</td>\n",
       "      <td>9</td>\n",
       "    </tr>\n",
       "    <tr>\n",
       "      <th>4</th>\n",
       "      <td>5-Jan</td>\n",
       "      <td>BON</td>\n",
       "      <td>9.0</td>\n",
       "      <td>2</td>\n",
       "      <td>11</td>\n",
       "    </tr>\n",
       "    <tr>\n",
       "      <th>...</th>\n",
       "      <td>...</td>\n",
       "      <td>...</td>\n",
       "      <td>...</td>\n",
       "      <td>...</td>\n",
       "      <td>...</td>\n",
       "    </tr>\n",
       "    <tr>\n",
       "      <th>360</th>\n",
       "      <td>27-Dec</td>\n",
       "      <td>BON</td>\n",
       "      <td>NaN</td>\n",
       "      <td>2</td>\n",
       "      <td>14</td>\n",
       "    </tr>\n",
       "    <tr>\n",
       "      <th>361</th>\n",
       "      <td>28-Dec</td>\n",
       "      <td>BON</td>\n",
       "      <td>NaN</td>\n",
       "      <td>8</td>\n",
       "      <td>13</td>\n",
       "    </tr>\n",
       "    <tr>\n",
       "      <th>362</th>\n",
       "      <td>29-Dec</td>\n",
       "      <td>BON</td>\n",
       "      <td>NaN</td>\n",
       "      <td>7</td>\n",
       "      <td>22</td>\n",
       "    </tr>\n",
       "    <tr>\n",
       "      <th>363</th>\n",
       "      <td>30-Dec</td>\n",
       "      <td>BON</td>\n",
       "      <td>NaN</td>\n",
       "      <td>1</td>\n",
       "      <td>17</td>\n",
       "    </tr>\n",
       "    <tr>\n",
       "      <th>364</th>\n",
       "      <td>31-Dec</td>\n",
       "      <td>BON</td>\n",
       "      <td>NaN</td>\n",
       "      <td>8</td>\n",
       "      <td>14</td>\n",
       "    </tr>\n",
       "  </tbody>\n",
       "</table>\n",
       "<p>365 rows × 5 columns</p>\n",
       "</div>"
      ],
      "text/plain": [
       "      Dates  Dam  Daily_Count_Current_Year  Daily_Count_Last_Year  \\\n",
       "0     1-Jan  BON                       3.0                     10   \n",
       "1     2-Jan  BON                       7.0                     10   \n",
       "2     3-Jan  BON                       9.0                     14   \n",
       "3     4-Jan  BON                      11.0                      1   \n",
       "4     5-Jan  BON                       9.0                      2   \n",
       "..      ...  ...                       ...                    ...   \n",
       "360  27-Dec  BON                       NaN                      2   \n",
       "361  28-Dec  BON                       NaN                      8   \n",
       "362  29-Dec  BON                       NaN                      7   \n",
       "363  30-Dec  BON                       NaN                      1   \n",
       "364  31-Dec  BON                       NaN                      8   \n",
       "\n",
       "     Ten_Year_Average_Daily_Count  \n",
       "0                              10  \n",
       "1                              10  \n",
       "2                               8  \n",
       "3                               9  \n",
       "4                              11  \n",
       "..                            ...  \n",
       "360                            14  \n",
       "361                            13  \n",
       "362                            22  \n",
       "363                            17  \n",
       "364                            14  \n",
       "\n",
       "[365 rows x 5 columns]"
      ]
     },
     "execution_count": 3,
     "metadata": {},
     "output_type": "execute_result"
    }
   ],
   "source": [
    "df = pd.read_csv(r'C:\\Users\\DallinJ\\Documents\\GitHub\\Portfolio\\Bonneville_steelhead_counts.csv')\n",
    "df"
   ]
  },
  {
   "cell_type": "markdown",
   "id": "bf035ae9",
   "metadata": {},
   "source": [
    "Calculate summary statistics for each run"
   ]
  },
  {
   "cell_type": "code",
   "execution_count": 4,
   "id": "756b662e",
   "metadata": {
    "scrolled": true
   },
   "outputs": [
    {
     "data": {
      "text/html": [
       "<div>\n",
       "<style scoped>\n",
       "    .dataframe tbody tr th:only-of-type {\n",
       "        vertical-align: middle;\n",
       "    }\n",
       "\n",
       "    .dataframe tbody tr th {\n",
       "        vertical-align: top;\n",
       "    }\n",
       "\n",
       "    .dataframe thead th {\n",
       "        text-align: right;\n",
       "    }\n",
       "</style>\n",
       "<table border=\"1\" class=\"dataframe\">\n",
       "  <thead>\n",
       "    <tr style=\"text-align: right;\">\n",
       "      <th></th>\n",
       "      <th>Daily_Count_Current_Year</th>\n",
       "      <th>Daily_Count_Last_Year</th>\n",
       "      <th>Ten_Year_Average_Daily_Count</th>\n",
       "    </tr>\n",
       "  </thead>\n",
       "  <tbody>\n",
       "    <tr>\n",
       "      <th>count</th>\n",
       "      <td>332.000000</td>\n",
       "      <td>365.000000</td>\n",
       "      <td>365.000000</td>\n",
       "    </tr>\n",
       "    <tr>\n",
       "      <th>mean</th>\n",
       "      <td>215.316265</td>\n",
       "      <td>313.252055</td>\n",
       "      <td>557.375342</td>\n",
       "    </tr>\n",
       "    <tr>\n",
       "      <th>std</th>\n",
       "      <td>361.429044</td>\n",
       "      <td>539.627672</td>\n",
       "      <td>930.932812</td>\n",
       "    </tr>\n",
       "    <tr>\n",
       "      <th>min</th>\n",
       "      <td>0.000000</td>\n",
       "      <td>-1.000000</td>\n",
       "      <td>6.000000</td>\n",
       "    </tr>\n",
       "    <tr>\n",
       "      <th>25%</th>\n",
       "      <td>8.000000</td>\n",
       "      <td>11.000000</td>\n",
       "      <td>22.000000</td>\n",
       "    </tr>\n",
       "    <tr>\n",
       "      <th>50%</th>\n",
       "      <td>24.000000</td>\n",
       "      <td>29.000000</td>\n",
       "      <td>46.000000</td>\n",
       "    </tr>\n",
       "    <tr>\n",
       "      <th>75%</th>\n",
       "      <td>311.000000</td>\n",
       "      <td>328.000000</td>\n",
       "      <td>610.000000</td>\n",
       "    </tr>\n",
       "    <tr>\n",
       "      <th>max</th>\n",
       "      <td>1608.000000</td>\n",
       "      <td>2377.000000</td>\n",
       "      <td>3552.000000</td>\n",
       "    </tr>\n",
       "  </tbody>\n",
       "</table>\n",
       "</div>"
      ],
      "text/plain": [
       "       Daily_Count_Current_Year  Daily_Count_Last_Year  \\\n",
       "count                332.000000             365.000000   \n",
       "mean                 215.316265             313.252055   \n",
       "std                  361.429044             539.627672   \n",
       "min                    0.000000              -1.000000   \n",
       "25%                    8.000000              11.000000   \n",
       "50%                   24.000000              29.000000   \n",
       "75%                  311.000000             328.000000   \n",
       "max                 1608.000000            2377.000000   \n",
       "\n",
       "       Ten_Year_Average_Daily_Count  \n",
       "count                    365.000000  \n",
       "mean                     557.375342  \n",
       "std                      930.932812  \n",
       "min                        6.000000  \n",
       "25%                       22.000000  \n",
       "50%                       46.000000  \n",
       "75%                      610.000000  \n",
       "max                     3552.000000  "
      ]
     },
     "execution_count": 4,
     "metadata": {},
     "output_type": "execute_result"
    }
   ],
   "source": [
    "stats = df[['Daily_Count_Current_Year','Daily_Count_Last_Year','Ten_Year_Average_Daily_Count']].describe()\n",
    "stats"
   ]
  },
  {
   "cell_type": "markdown",
   "id": "afeb7b48",
   "metadata": {},
   "source": [
    "Look at the current steelhead numbers for the Bonneville Dam"
   ]
  },
  {
   "cell_type": "code",
   "execution_count": 5,
   "id": "25d743f7",
   "metadata": {},
   "outputs": [
    {
     "data": {
      "text/html": [
       "<div>\n",
       "<style scoped>\n",
       "    .dataframe tbody tr th:only-of-type {\n",
       "        vertical-align: middle;\n",
       "    }\n",
       "\n",
       "    .dataframe tbody tr th {\n",
       "        vertical-align: top;\n",
       "    }\n",
       "\n",
       "    .dataframe thead th {\n",
       "        text-align: right;\n",
       "    }\n",
       "</style>\n",
       "<table border=\"1\" class=\"dataframe\">\n",
       "  <thead>\n",
       "    <tr style=\"text-align: right;\">\n",
       "      <th></th>\n",
       "      <th>Dates</th>\n",
       "      <th>Daily_Count_Current_Year</th>\n",
       "    </tr>\n",
       "  </thead>\n",
       "  <tbody>\n",
       "    <tr>\n",
       "      <th>0</th>\n",
       "      <td>1-Jan</td>\n",
       "      <td>3.0</td>\n",
       "    </tr>\n",
       "    <tr>\n",
       "      <th>1</th>\n",
       "      <td>2-Jan</td>\n",
       "      <td>7.0</td>\n",
       "    </tr>\n",
       "    <tr>\n",
       "      <th>2</th>\n",
       "      <td>3-Jan</td>\n",
       "      <td>9.0</td>\n",
       "    </tr>\n",
       "    <tr>\n",
       "      <th>3</th>\n",
       "      <td>4-Jan</td>\n",
       "      <td>11.0</td>\n",
       "    </tr>\n",
       "    <tr>\n",
       "      <th>4</th>\n",
       "      <td>5-Jan</td>\n",
       "      <td>9.0</td>\n",
       "    </tr>\n",
       "    <tr>\n",
       "      <th>...</th>\n",
       "      <td>...</td>\n",
       "      <td>...</td>\n",
       "    </tr>\n",
       "    <tr>\n",
       "      <th>360</th>\n",
       "      <td>27-Dec</td>\n",
       "      <td>NaN</td>\n",
       "    </tr>\n",
       "    <tr>\n",
       "      <th>361</th>\n",
       "      <td>28-Dec</td>\n",
       "      <td>NaN</td>\n",
       "    </tr>\n",
       "    <tr>\n",
       "      <th>362</th>\n",
       "      <td>29-Dec</td>\n",
       "      <td>NaN</td>\n",
       "    </tr>\n",
       "    <tr>\n",
       "      <th>363</th>\n",
       "      <td>30-Dec</td>\n",
       "      <td>NaN</td>\n",
       "    </tr>\n",
       "    <tr>\n",
       "      <th>364</th>\n",
       "      <td>31-Dec</td>\n",
       "      <td>NaN</td>\n",
       "    </tr>\n",
       "  </tbody>\n",
       "</table>\n",
       "<p>365 rows × 2 columns</p>\n",
       "</div>"
      ],
      "text/plain": [
       "      Dates  Daily_Count_Current_Year\n",
       "0     1-Jan                       3.0\n",
       "1     2-Jan                       7.0\n",
       "2     3-Jan                       9.0\n",
       "3     4-Jan                      11.0\n",
       "4     5-Jan                       9.0\n",
       "..      ...                       ...\n",
       "360  27-Dec                       NaN\n",
       "361  28-Dec                       NaN\n",
       "362  29-Dec                       NaN\n",
       "363  30-Dec                       NaN\n",
       "364  31-Dec                       NaN\n",
       "\n",
       "[365 rows x 2 columns]"
      ]
     },
     "execution_count": 5,
     "metadata": {},
     "output_type": "execute_result"
    }
   ],
   "source": [
    "current = df[['Dates','Daily_Count_Current_Year']] #extract the date and daily current year columns\n",
    "\n",
    "current # check the new dataframe\n",
    "\n"
   ]
  },
  {
   "cell_type": "markdown",
   "id": "7ea844af",
   "metadata": {},
   "source": [
    "Plot the new dataframe using dates and daily count"
   ]
  },
  {
   "cell_type": "code",
   "execution_count": 6,
   "id": "15440346",
   "metadata": {},
   "outputs": [
    {
     "data": {
      "text/plain": [
       "<AxesSubplot:xlabel='Dates'>"
      ]
     },
     "execution_count": 6,
     "metadata": {},
     "output_type": "execute_result"
    },
    {
     "data": {
      "image/png": "[encoded data removed]",
      "text/plain": [
       "<Figure size 432x288 with 1 Axes>"
      ]
     },
     "metadata": {
      "needs_background": "light"
     },
     "output_type": "display_data"
    }
   ],
   "source": [
    "current.plot(x='Dates', y='Daily_Count_Current_Year')"
   ]
  },
  {
   "cell_type": "markdown",
   "id": "ed642532",
   "metadata": {},
   "source": [
    "Look at the last years steelhead numbers for the Bonneville Dam"
   ]
  },
  {
   "cell_type": "code",
   "execution_count": 7,
   "id": "65394316",
   "metadata": {},
   "outputs": [
    {
     "data": {
      "text/html": [
       "<div>\n",
       "<style scoped>\n",
       "    .dataframe tbody tr th:only-of-type {\n",
       "        vertical-align: middle;\n",
       "    }\n",
       "\n",
       "    .dataframe tbody tr th {\n",
       "        vertical-align: top;\n",
       "    }\n",
       "\n",
       "    .dataframe thead th {\n",
       "        text-align: right;\n",
       "    }\n",
       "</style>\n",
       "<table border=\"1\" class=\"dataframe\">\n",
       "  <thead>\n",
       "    <tr style=\"text-align: right;\">\n",
       "      <th></th>\n",
       "      <th>Dates</th>\n",
       "      <th>Daily_Count_Last_Year</th>\n",
       "    </tr>\n",
       "  </thead>\n",
       "  <tbody>\n",
       "    <tr>\n",
       "      <th>0</th>\n",
       "      <td>1-Jan</td>\n",
       "      <td>10</td>\n",
       "    </tr>\n",
       "    <tr>\n",
       "      <th>1</th>\n",
       "      <td>2-Jan</td>\n",
       "      <td>10</td>\n",
       "    </tr>\n",
       "    <tr>\n",
       "      <th>2</th>\n",
       "      <td>3-Jan</td>\n",
       "      <td>14</td>\n",
       "    </tr>\n",
       "    <tr>\n",
       "      <th>3</th>\n",
       "      <td>4-Jan</td>\n",
       "      <td>1</td>\n",
       "    </tr>\n",
       "    <tr>\n",
       "      <th>4</th>\n",
       "      <td>5-Jan</td>\n",
       "      <td>2</td>\n",
       "    </tr>\n",
       "    <tr>\n",
       "      <th>...</th>\n",
       "      <td>...</td>\n",
       "      <td>...</td>\n",
       "    </tr>\n",
       "    <tr>\n",
       "      <th>360</th>\n",
       "      <td>27-Dec</td>\n",
       "      <td>2</td>\n",
       "    </tr>\n",
       "    <tr>\n",
       "      <th>361</th>\n",
       "      <td>28-Dec</td>\n",
       "      <td>8</td>\n",
       "    </tr>\n",
       "    <tr>\n",
       "      <th>362</th>\n",
       "      <td>29-Dec</td>\n",
       "      <td>7</td>\n",
       "    </tr>\n",
       "    <tr>\n",
       "      <th>363</th>\n",
       "      <td>30-Dec</td>\n",
       "      <td>1</td>\n",
       "    </tr>\n",
       "    <tr>\n",
       "      <th>364</th>\n",
       "      <td>31-Dec</td>\n",
       "      <td>8</td>\n",
       "    </tr>\n",
       "  </tbody>\n",
       "</table>\n",
       "<p>365 rows × 2 columns</p>\n",
       "</div>"
      ],
      "text/plain": [
       "      Dates  Daily_Count_Last_Year\n",
       "0     1-Jan                     10\n",
       "1     2-Jan                     10\n",
       "2     3-Jan                     14\n",
       "3     4-Jan                      1\n",
       "4     5-Jan                      2\n",
       "..      ...                    ...\n",
       "360  27-Dec                      2\n",
       "361  28-Dec                      8\n",
       "362  29-Dec                      7\n",
       "363  30-Dec                      1\n",
       "364  31-Dec                      8\n",
       "\n",
       "[365 rows x 2 columns]"
      ]
     },
     "execution_count": 7,
     "metadata": {},
     "output_type": "execute_result"
    }
   ],
   "source": [
    "last_year = df[['Dates','Daily_Count_Last_Year']] #extract the date and daily last year columns\n",
    "last_year"
   ]
  },
  {
   "cell_type": "markdown",
   "id": "11d10b6f",
   "metadata": {},
   "source": [
    "Plot the new dataframe using dates and daily count\n"
   ]
  },
  {
   "cell_type": "code",
   "execution_count": 8,
   "id": "e3ea4113",
   "metadata": {},
   "outputs": [
    {
     "data": {
      "text/plain": [
       "<AxesSubplot:xlabel='Dates'>"
      ]
     },
     "execution_count": 8,
     "metadata": {},
     "output_type": "execute_result"
    },
    {
     "data": {
      "image/png": "[encoded data removed]",
      "text/plain": [
       "<Figure size 432x288 with 1 Axes>"
      ]
     },
     "metadata": {
      "needs_background": "light"
     },
     "output_type": "display_data"
    }
   ],
   "source": [
    "last_year.plot(x='Dates', y='Daily_Count_Last_Year')\n"
   ]
  },
  {
   "cell_type": "markdown",
   "id": "f915b309",
   "metadata": {},
   "source": [
    "Look at the 10 year average steelhead numbers for the Bonneville Dam"
   ]
  },
  {
   "cell_type": "code",
   "execution_count": 9,
   "id": "01610b61",
   "metadata": {},
   "outputs": [
    {
     "data": {
      "text/html": [
       "<div>\n",
       "<style scoped>\n",
       "    .dataframe tbody tr th:only-of-type {\n",
       "        vertical-align: middle;\n",
       "    }\n",
       "\n",
       "    .dataframe tbody tr th {\n",
       "        vertical-align: top;\n",
       "    }\n",
       "\n",
       "    .dataframe thead th {\n",
       "        text-align: right;\n",
       "    }\n",
       "</style>\n",
       "<table border=\"1\" class=\"dataframe\">\n",
       "  <thead>\n",
       "    <tr style=\"text-align: right;\">\n",
       "      <th></th>\n",
       "      <th>Dates</th>\n",
       "      <th>Ten_Year_Average_Daily_Count</th>\n",
       "    </tr>\n",
       "  </thead>\n",
       "  <tbody>\n",
       "    <tr>\n",
       "      <th>0</th>\n",
       "      <td>1-Jan</td>\n",
       "      <td>10</td>\n",
       "    </tr>\n",
       "    <tr>\n",
       "      <th>1</th>\n",
       "      <td>2-Jan</td>\n",
       "      <td>10</td>\n",
       "    </tr>\n",
       "    <tr>\n",
       "      <th>2</th>\n",
       "      <td>3-Jan</td>\n",
       "      <td>8</td>\n",
       "    </tr>\n",
       "    <tr>\n",
       "      <th>3</th>\n",
       "      <td>4-Jan</td>\n",
       "      <td>9</td>\n",
       "    </tr>\n",
       "    <tr>\n",
       "      <th>4</th>\n",
       "      <td>5-Jan</td>\n",
       "      <td>11</td>\n",
       "    </tr>\n",
       "    <tr>\n",
       "      <th>...</th>\n",
       "      <td>...</td>\n",
       "      <td>...</td>\n",
       "    </tr>\n",
       "    <tr>\n",
       "      <th>360</th>\n",
       "      <td>27-Dec</td>\n",
       "      <td>14</td>\n",
       "    </tr>\n",
       "    <tr>\n",
       "      <th>361</th>\n",
       "      <td>28-Dec</td>\n",
       "      <td>13</td>\n",
       "    </tr>\n",
       "    <tr>\n",
       "      <th>362</th>\n",
       "      <td>29-Dec</td>\n",
       "      <td>22</td>\n",
       "    </tr>\n",
       "    <tr>\n",
       "      <th>363</th>\n",
       "      <td>30-Dec</td>\n",
       "      <td>17</td>\n",
       "    </tr>\n",
       "    <tr>\n",
       "      <th>364</th>\n",
       "      <td>31-Dec</td>\n",
       "      <td>14</td>\n",
       "    </tr>\n",
       "  </tbody>\n",
       "</table>\n",
       "<p>365 rows × 2 columns</p>\n",
       "</div>"
      ],
      "text/plain": [
       "      Dates  Ten_Year_Average_Daily_Count\n",
       "0     1-Jan                            10\n",
       "1     2-Jan                            10\n",
       "2     3-Jan                             8\n",
       "3     4-Jan                             9\n",
       "4     5-Jan                            11\n",
       "..      ...                           ...\n",
       "360  27-Dec                            14\n",
       "361  28-Dec                            13\n",
       "362  29-Dec                            22\n",
       "363  30-Dec                            17\n",
       "364  31-Dec                            14\n",
       "\n",
       "[365 rows x 2 columns]"
      ]
     },
     "execution_count": 9,
     "metadata": {},
     "output_type": "execute_result"
    }
   ],
   "source": [
    "ten_year = df[['Dates','Ten_Year_Average_Daily_Count']] #extract the date and daily 10 year average columns\n",
    "ten_year"
   ]
  },
  {
   "cell_type": "markdown",
   "id": "4d771d00",
   "metadata": {},
   "source": [
    "Plot the new dataframe using dates and 10 year average count"
   ]
  },
  {
   "cell_type": "code",
   "execution_count": 10,
   "id": "2f5dfe4c",
   "metadata": {},
   "outputs": [
    {
     "data": {
      "text/plain": [
       "<AxesSubplot:xlabel='Dates'>"
      ]
     },
     "execution_count": 10,
     "metadata": {},
     "output_type": "execute_result"
    },
    {
     "data": {
      "image/png": "[encoded data removed]",
      "text/plain": [
       "<Figure size 432x288 with 1 Axes>"
      ]
     },
     "metadata": {
      "needs_background": "light"
     },
     "output_type": "display_data"
    }
   ],
   "source": [
    "ten_year.plot(x='Dates', y='Ten_Year_Average_Daily_Count')"
   ]
  },
  {
   "cell_type": "markdown",
   "id": "d5fbb8ae",
   "metadata": {},
   "source": [
    "Plot all runs on one plot"
   ]
  },
  {
   "cell_type": "code",
   "execution_count": 11,
   "id": "18fd6048",
   "metadata": {
    "scrolled": true
   },
   "outputs": [
    {
     "data": {
      "image/png": "[encoded data removed]",
      "text/plain": [
       "<Figure size 432x288 with 1 Axes>"
      ]
     },
     "metadata": {
      "needs_background": "light"
     },
     "output_type": "display_data"
    }
   ],
   "source": [
    "\n",
    "df.plot(x = 'Dates', y=['Daily_Count_Current_Year', 'Daily_Count_Last_Year','Ten_Year_Average_Daily_Count' ] ) # x as dates and y as the different runs\n",
    "plt.legend([\"Current Daily Count\", \"Last Year Daily Count\", \"10 Year Average Daily Count\"]) #add customized legend and title using matpolotlib\n",
    "plt.title('Bonneville Steelhead Daily Count Comparisons')\n",
    "plt.savefig('Bonneville_steelhead.png') # save the figure"
   ]
  },
  {
   "cell_type": "code",
   "execution_count": null,
   "id": "8afd0952",
   "metadata": {},
   "outputs": [],
   "source": []
  }
 ],
 "metadata": {
  "kernelspec": {
   "display_name": "Python 3 (ipykernel)",
   "language": "python",
   "name": "python3"
  },
  "language_info": {
   "codemirror_mode": {
    "name": "ipython",
    "version": 3
   },
   "file_extension": ".py",
   "mimetype": "text/x-python",
   "name": "python",
   "nbconvert_exporter": "python",
   "pygments_lexer": "ipython3",
   "version": "3.9.0"
  }
 },
 "nbformat": 4,
 "nbformat_minor": 5
}
